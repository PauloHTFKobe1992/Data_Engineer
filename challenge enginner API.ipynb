{
 "cells": [
  {
   "cell_type": "code",
   "execution_count": 21,
   "id": "b34768de",
   "metadata": {},
   "outputs": [],
   "source": []
  },
  {
   "cell_type": "code",
   "execution_count": 59,
   "id": "ad818c59",
   "metadata": {},
   "outputs": [],
   "source": [
    "import pandas as pd\n",
    "import requests\n",
    "import json\n",
    "import csv\n",
    "\n",
    "\"Lista com os produtos a serem pesquisados\"\n",
    "pesquisa = ['Chromecast', 'Apple TV', 'Amazon Fire TV','Mi Stick']\n",
    "\n",
    "\n",
    "#Baixar lista com items id\n",
    "def busca_dados(pesquisa, limite = 50):\n",
    "    \n",
    "    retorno_items = pd.DataFrame()\n",
    "    \n",
    "    for busca in pesquisa:\n",
    "        print(f'Iniciando a busca dos items {busca}', end='')\n",
    "        url_busca = f'https://api.mercadolibre.com/sites/MLA/search?q={busca}&limit={limite}#json'\n",
    "        busca_dados = requests.get(url_busca)\n",
    "        resultado_dados = busca_dados.json()\n",
    "        \n",
    "        for index in range(len(resultado_dados.get('results'))):\n",
    "            item_id = resultado_dados.get('results')[index].get('id')\n",
    "            url = f'https://api.mercadolibre.com/items/{item_id}'\n",
    "            busca_item = requests.get(url)\n",
    "            resultado_busca = busca_item.json()\n",
    "            df_retorno = pd.json_normalize(resultado_busca)\n",
    "            retorno_items = retorno_items.append(df_retorno)\n",
    "            \n",
    "        print(\"Pesquisa e adição dos dados finalizada.\")\n",
    "\n",
    "        \n",
    "    return retorno_items\n",
    "    "
   ]
  },
  {
   "cell_type": "code",
   "execution_count": 60,
   "id": "5680e18e",
   "metadata": {
    "collapsed": true
   },
   "outputs": [
    {
     "name": "stdout",
     "output_type": "stream",
     "text": [
      "Iniciando a busca dos items Chromecast"
     ]
    },
    {
     "ename": "TypeError",
     "evalue": "object of type 'NoneType' has no len()",
     "output_type": "error",
     "traceback": [
      "\u001b[1;31m---------------------------------------------------------------------------\u001b[0m",
      "\u001b[1;31mTypeError\u001b[0m                                 Traceback (most recent call last)",
      "Input \u001b[1;32mIn [60]\u001b[0m, in \u001b[0;36m<cell line: 2>\u001b[1;34m()\u001b[0m\n\u001b[0;32m      1\u001b[0m \u001b[38;5;66;03m# Chamando a função e armazenando o resultado em df_final\u001b[39;00m\n\u001b[1;32m----> 2\u001b[0m df_final \u001b[38;5;241m=\u001b[39m \u001b[43mbusca_dados\u001b[49m\u001b[43m(\u001b[49m\u001b[43mpesquisa\u001b[49m\u001b[43m)\u001b[49m\n\u001b[0;32m      4\u001b[0m \u001b[38;5;66;03m# Retornando o DataFrame como CSV\u001b[39;00m\n\u001b[0;32m      5\u001b[0m df_final\u001b[38;5;241m.\u001b[39mto_csv(\u001b[38;5;124m'\u001b[39m\u001b[38;5;124mapi_finalizada.csv\u001b[39m\u001b[38;5;124m'\u001b[39m, index\u001b[38;5;241m=\u001b[39m\u001b[38;5;28;01mFalse\u001b[39;00m, sep\u001b[38;5;241m=\u001b[39m\u001b[38;5;124m'\u001b[39m\u001b[38;5;124m,\u001b[39m\u001b[38;5;124m'\u001b[39m) \u001b[38;5;66;03m# Correção: adicionando a extensão .csv ao nome do arquivo\u001b[39;00m\n",
      "Input \u001b[1;32mIn [59]\u001b[0m, in \u001b[0;36mbusca_dados\u001b[1;34m(pesquisa, limite)\u001b[0m\n\u001b[0;32m     18\u001b[0m busca_dados \u001b[38;5;241m=\u001b[39m requests\u001b[38;5;241m.\u001b[39mget(url_busca)\n\u001b[0;32m     19\u001b[0m resultado_dados \u001b[38;5;241m=\u001b[39m busca_dados\u001b[38;5;241m.\u001b[39mjson()\n\u001b[1;32m---> 21\u001b[0m \u001b[38;5;28;01mfor\u001b[39;00m index \u001b[38;5;129;01min\u001b[39;00m \u001b[38;5;28mrange\u001b[39m(\u001b[38;5;28;43mlen\u001b[39;49m\u001b[43m(\u001b[49m\u001b[43mresultado_dados\u001b[49m\u001b[38;5;241;43m.\u001b[39;49m\u001b[43mget\u001b[49m\u001b[43m(\u001b[49m\u001b[38;5;124;43m'\u001b[39;49m\u001b[38;5;124;43mresults\u001b[39;49m\u001b[38;5;124;43m'\u001b[39;49m\u001b[43m)\u001b[49m\u001b[43m)\u001b[49m):\n\u001b[0;32m     22\u001b[0m     item_id \u001b[38;5;241m=\u001b[39m resultado_dados\u001b[38;5;241m.\u001b[39mget(\u001b[38;5;124m'\u001b[39m\u001b[38;5;124mresults\u001b[39m\u001b[38;5;124m'\u001b[39m)[index]\u001b[38;5;241m.\u001b[39mget(\u001b[38;5;124m'\u001b[39m\u001b[38;5;124mid\u001b[39m\u001b[38;5;124m'\u001b[39m)\n\u001b[0;32m     23\u001b[0m     url \u001b[38;5;241m=\u001b[39m \u001b[38;5;124mf\u001b[39m\u001b[38;5;124m'\u001b[39m\u001b[38;5;124mhttps://api.mercadolibre.com/items/\u001b[39m\u001b[38;5;132;01m{\u001b[39;00mitem_id\u001b[38;5;132;01m}\u001b[39;00m\u001b[38;5;124m'\u001b[39m\n",
      "\u001b[1;31mTypeError\u001b[0m: object of type 'NoneType' has no len()"
     ]
    }
   ],
   "source": [
    "# Chamando a função e armazenando o resultado em df_final\n",
    "df_final = busca_dados(pesquisa)\n",
    "\n",
    "# Retornando o DataFrame como CSV\n",
    "df_final.to_csv('api_finalizada.csv', index=False, sep=',')\n",
    "print('Arquivo criado')"
   ]
  },
  {
   "cell_type": "code",
   "execution_count": null,
   "id": "851f737e",
   "metadata": {},
   "outputs": [],
   "source": []
  }
 ],
 "metadata": {
  "kernelspec": {
   "display_name": "Python 3 (ipykernel)",
   "language": "python",
   "name": "python3"
  },
  "language_info": {
   "codemirror_mode": {
    "name": "ipython",
    "version": 3
   },
   "file_extension": ".py",
   "mimetype": "text/x-python",
   "name": "python",
   "nbconvert_exporter": "python",
   "pygments_lexer": "ipython3",
   "version": "3.9.12"
  }
 },
 "nbformat": 4,
 "nbformat_minor": 5
}
