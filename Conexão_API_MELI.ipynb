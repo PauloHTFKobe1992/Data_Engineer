{
  "cells": [
    {
      "cell_type": "markdown",
      "metadata": {
        "id": "view-in-github",
        "colab_type": "text"
      },
      "source": [
        "<a href=\"https://colab.research.google.com/github/PauloHTFKobe1992/Data_Engineer/blob/main/Conex%C3%A3o_API_MELI.ipynb\" target=\"_parent\"><img src=\"https://colab.research.google.com/assets/colab-badge.svg\" alt=\"Open In Colab\"/></a>"
      ]
    },
    {
      "cell_type": "markdown",
      "id": "34d976d7",
      "metadata": {
        "id": "34d976d7"
      },
      "source": [
        "# Conexão API MELI\n",
        "### Trazer dados Google Home, Apple TV, Amazon Fire TV"
      ]
    },
    {
      "cell_type": "code",
      "execution_count": null,
      "id": "6fab3b31",
      "metadata": {
        "id": "6fab3b31"
      },
      "outputs": [],
      "source": [
        "import requests\n",
        "import pandas as pd\n",
        "import base64\n",
        "import json"
      ]
    },
    {
      "cell_type": "code",
      "source": [
        "i = 'Amazon'\n",
        "url = f'https://api.mercadolibre.com/sites/MLA/search?q={i}&limit=50#json'\n",
        "link = requests.get(url)\n",
        "link = link.json()\n",
        "print(link)"
      ],
      "metadata": {
        "id": "zzXsKrlvVgbE"
      },
      "id": "zzXsKrlvVgbE",
      "execution_count": null,
      "outputs": []
    },
    {
      "cell_type": "code",
      "source": [
        "lista_dos_produtos = []\n",
        "p = ['Amazon','Google Home', 'Apple TV', 'Amazon' 'Fire TV', 'Chromecast']\n",
        "for i in p:\n",
        "  url = f'https://api.mercadolibre.com/sites/MLA/search?q={i}&limit=50#json'\n",
        "  link = requests.get(url)\n",
        "  link = link.json()\n",
        "  print(f'produto {i} tamnho {len(link[\"results\"])}')\n",
        "  for j in range(len(link['results'])):\n",
        "    prod = link['results'][j]['id']\n",
        "    response = requests.get(f'https://api.mercadolibre.com/items/{prod}')\n",
        "    if response.status_code == 200:\n",
        "      lista_dos_produtos.append(response.json())"
      ],
      "metadata": {
        "id": "ZFHAgrfTkqZ7"
      },
      "id": "ZFHAgrfTkqZ7",
      "execution_count": null,
      "outputs": []
    },
    {
      "cell_type": "code",
      "source": [
        "len(lista_dos_produtos)"
      ],
      "metadata": {
        "id": "Kt2zuQgX0kNI"
      },
      "id": "Kt2zuQgX0kNI",
      "execution_count": null,
      "outputs": []
    },
    {
      "cell_type": "code",
      "source": [
        "lista_dos_produtos = pd.DataFrame(lista_dos_produtos)"
      ],
      "metadata": {
        "id": "91RaeTrK3Wje"
      },
      "id": "91RaeTrK3Wje",
      "execution_count": null,
      "outputs": []
    },
    {
      "cell_type": "code",
      "source": [
        "display(lista_dos_produtos)"
      ],
      "metadata": {
        "id": "bzEovDWO3fEs"
      },
      "id": "bzEovDWO3fEs",
      "execution_count": null,
      "outputs": []
    },
    {
      "cell_type": "code",
      "source": [
        "lista_dos_produtos.to_csv('api_finalizadaV1.csv')"
      ],
      "metadata": {
        "id": "uK5YoljA3oKl"
      },
      "id": "uK5YoljA3oKl",
      "execution_count": null,
      "outputs": []
    },
    {
      "cell_type": "code",
      "source": [],
      "metadata": {
        "id": "MWXEbRgfKb9q"
      },
      "id": "MWXEbRgfKb9q",
      "execution_count": null,
      "outputs": []
    }
  ],
  "metadata": {
    "kernelspec": {
      "display_name": "Python 3 (ipykernel)",
      "language": "python",
      "name": "python3"
    },
    "language_info": {
      "codemirror_mode": {
        "name": "ipython",
        "version": 3
      },
      "file_extension": ".py",
      "mimetype": "text/x-python",
      "name": "python",
      "nbconvert_exporter": "python",
      "pygments_lexer": "ipython3",
      "version": "3.9.12"
    },
    "colab": {
      "provenance": [],
      "include_colab_link": true
    }
  },
  "nbformat": 4,
  "nbformat_minor": 5
}